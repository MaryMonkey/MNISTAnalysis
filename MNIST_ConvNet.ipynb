{
 "cells": [
  {
   "cell_type": "markdown",
   "metadata": {},
   "source": [
    "## Import dependencies"
   ]
  },
  {
   "cell_type": "code",
   "execution_count": 2,
   "metadata": {},
   "outputs": [],
   "source": [
    "import pandas as pd\n",
    "import numpy as np\n",
    "import keras\n",
    "from tensorflow.keras.datasets import mnist\n",
    "from keras import layers, Sequential"
   ]
  },
  {
   "cell_type": "markdown",
   "metadata": {},
   "source": [
    "## Load the MNIST dataset from Keras"
   ]
  },
  {
   "cell_type": "code",
   "execution_count": 3,
   "metadata": {},
   "outputs": [],
   "source": [
    "(x_train, y_train), (x_test, y_test) = mnist.load_data(path=\"mnist.npz\")"
   ]
  },
  {
   "cell_type": "code",
   "execution_count": 4,
   "metadata": {},
   "outputs": [],
   "source": [
    "num_classes = 10\n",
    "input_shape = (28, 28, 1)"
   ]
  },
  {
   "cell_type": "code",
   "execution_count": 5,
   "metadata": {},
   "outputs": [],
   "source": [
    "# normalization: scale images to the [0, 1] range\n",
    "x_train = x_train.astype(\"float32\") / 255\n",
    "x_test = x_test.astype(\"float32\") / 255\n",
    "\n",
    "# Make sure images have shape (28, 28, 1)\n",
    "x_train = np.expand_dims(x_train, -1)\n",
    "x_test = np.expand_dims(x_test, -1)\n",
    "\n",
    "# one-hot encoding: convert class vectors to binary class matrices\n",
    "y_train = keras.utils.to_categorical(y_train, num_classes)\n",
    "y_test = keras.utils.to_categorical(y_test, num_classes)"
   ]
  },
  {
   "cell_type": "markdown",
   "metadata": {},
   "source": [
    "## Build the model: 2 Conv2D + 2 FC"
   ]
  },
  {
   "cell_type": "code",
   "execution_count": 6,
   "metadata": {},
   "outputs": [
    {
     "name": "stdout",
     "output_type": "stream",
     "text": [
      "Model: \"sequential\"\n",
      "_________________________________________________________________\n",
      "Layer (type)                 Output Shape              Param #   \n",
      "=================================================================\n",
      "conv2d (Conv2D)              (None, 26, 26, 32)        320       \n",
      "_________________________________________________________________\n",
      "max_pooling2d (MaxPooling2D) (None, 13, 13, 32)        0         \n",
      "_________________________________________________________________\n",
      "conv2d_1 (Conv2D)            (None, 11, 11, 64)        18496     \n",
      "_________________________________________________________________\n",
      "max_pooling2d_1 (MaxPooling2 (None, 5, 5, 64)          0         \n",
      "_________________________________________________________________\n",
      "flatten (Flatten)            (None, 1600)              0         \n",
      "_________________________________________________________________\n",
      "dropout (Dropout)            (None, 1600)              0         \n",
      "_________________________________________________________________\n",
      "dense (Dense)                (None, 1000)              1601000   \n",
      "_________________________________________________________________\n",
      "dense_1 (Dense)              (None, 10)                10010     \n",
      "=================================================================\n",
      "Total params: 1,629,826\n",
      "Trainable params: 1,629,826\n",
      "Non-trainable params: 0\n",
      "_________________________________________________________________\n"
     ]
    }
   ],
   "source": [
    "model = Sequential()\n",
    "\n",
    "model.add(layers.Conv2D(32, kernel_size=(3,3), activation='relu', strides=(1,1), input_shape=input_shape))\n",
    "model.add(layers.MaxPooling2D(pool_size=(2,2)))\n",
    "model.add(layers.Conv2D(64, kernel_size=(3,3), activation=\"relu\", strides=(1,1)))\n",
    "model.add(layers.MaxPooling2D(pool_size=(2,2)))\n",
    "model.add(layers.Flatten())\n",
    "model.add(layers.Dropout(0.5))\n",
    "model.add(layers.Dense(1000, activation='relu'))\n",
    "model.add(layers.Dense(num_classes, activation='softmax'))\n",
    "\n",
    "model.summary()"
   ]
  },
  {
   "cell_type": "markdown",
   "metadata": {},
   "source": [
    "## Train the model"
   ]
  },
  {
   "cell_type": "code",
   "execution_count": 7,
   "metadata": {
    "scrolled": true
   },
   "outputs": [
    {
     "name": "stdout",
     "output_type": "stream",
     "text": [
      "Epoch 1/12\n",
      "1688/1688 [==============================] - 213s 126ms/step - loss: 0.1496 - accuracy: 0.9529 - val_loss: 0.0388 - val_accuracy: 0.9885\n",
      "Epoch 2/12\n",
      "1688/1688 [==============================] - 209s 124ms/step - loss: 0.0602 - accuracy: 0.9808 - val_loss: 0.0515 - val_accuracy: 0.9827\n",
      "Epoch 3/12\n",
      "1688/1688 [==============================] - 208s 123ms/step - loss: 0.0462 - accuracy: 0.9851 - val_loss: 0.0298 - val_accuracy: 0.9908\n",
      "Epoch 4/12\n",
      "1688/1688 [==============================] - 210s 124ms/step - loss: 0.0386 - accuracy: 0.9870 - val_loss: 0.0305 - val_accuracy: 0.9912\n",
      "Epoch 5/12\n",
      "1688/1688 [==============================] - 217s 129ms/step - loss: 0.0312 - accuracy: 0.9898 - val_loss: 0.0298 - val_accuracy: 0.9918\n",
      "Epoch 6/12\n",
      "1688/1688 [==============================] - 200s 119ms/step - loss: 0.0270 - accuracy: 0.9913 - val_loss: 0.0250 - val_accuracy: 0.9930\n",
      "Epoch 7/12\n",
      "1688/1688 [==============================] - 197s 117ms/step - loss: 0.0252 - accuracy: 0.9923 - val_loss: 0.0271 - val_accuracy: 0.9923\n",
      "Epoch 8/12\n",
      "1688/1688 [==============================] - 202s 120ms/step - loss: 0.0233 - accuracy: 0.9925 - val_loss: 0.0321 - val_accuracy: 0.9908\n",
      "Epoch 9/12\n",
      "1688/1688 [==============================] - 195s 116ms/step - loss: 0.0217 - accuracy: 0.9931 - val_loss: 0.0261 - val_accuracy: 0.9935\n",
      "Epoch 10/12\n",
      "1688/1688 [==============================] - 208s 123ms/step - loss: 0.0177 - accuracy: 0.9942 - val_loss: 0.0291 - val_accuracy: 0.9928\n",
      "Epoch 11/12\n",
      "1688/1688 [==============================] - 230s 136ms/step - loss: 0.0183 - accuracy: 0.9937 - val_loss: 0.0391 - val_accuracy: 0.9907\n",
      "Epoch 12/12\n",
      "1688/1688 [==============================] - 232s 137ms/step - loss: 0.0152 - accuracy: 0.9948 - val_loss: 0.0281 - val_accuracy: 0.9930\n"
     ]
    },
    {
     "data": {
      "text/plain": [
       "<tensorflow.python.keras.callbacks.History at 0x7f03c1406940>"
      ]
     },
     "execution_count": 7,
     "metadata": {},
     "output_type": "execute_result"
    }
   ],
   "source": [
    "epochs = 12\n",
    "model.compile(loss=\"categorical_crossentropy\", optimizer=\"adam\", metrics=[\"accuracy\"])\n",
    "model.fit(x_train, y_train, epochs=epochs, validation_split=0.1)"
   ]
  },
  {
   "cell_type": "markdown",
   "metadata": {},
   "source": [
    "## Evaluate the model"
   ]
  },
  {
   "cell_type": "code",
   "execution_count": 8,
   "metadata": {},
   "outputs": [
    {
     "name": "stdout",
     "output_type": "stream",
     "text": [
      "313/313 [==============================] - 12s 39ms/step - loss: 0.0277 - accuracy: 0.9929\n",
      "Test loss: 0.027654213830828667\n",
      "Test accuracy: 0.992900013923645\n"
     ]
    }
   ],
   "source": [
    "score = model.evaluate(x_test, y_test)\n",
    "print(\"Test loss:\", score[0])\n",
    "print(\"Test accuracy:\", score[1])"
   ]
  },
  {
   "cell_type": "markdown",
   "metadata": {},
   "source": [
    "## Confusion matrix for evaluating the accuracy of the ConvNet"
   ]
  },
  {
   "cell_type": "code",
   "execution_count": 10,
   "metadata": {},
   "outputs": [],
   "source": [
    "from sklearn.metrics import confusion_matrix\n",
    "import matplotlib.pyplot as plt\n",
    "import itertools"
   ]
  },
  {
   "cell_type": "code",
   "execution_count": null,
   "metadata": {},
   "outputs": [],
   "source": [
    "# make predictions\n",
    "y_pred = model.predict(x_test)\n",
    "\n",
    "# reverse the one-hot encoding\n",
    "y_test = np.argmax(y_test, axis=1, out=None)\n",
    "y_pred = np.argmax(y_pred, axis=1, out=None)"
   ]
  },
  {
   "cell_type": "code",
   "execution_count": 60,
   "metadata": {},
   "outputs": [],
   "source": [
    "def plot_confusion_matrix(cm, classes, \n",
    "                          title='Confusion matrix', \n",
    "                          cmap=plt.cm.Blues, \n",
    "                          rotation=0, \n",
    "                          figsize=(8,8),\n",
    "                         fontsize=15):\n",
    "    \n",
    "    plt.figure(figsize=figsize)\n",
    "    plt.imshow(cm, interpolation='nearest', cmap=cmap)\n",
    "    plt.title(title, fontsize=fontsize)\n",
    "    plt.colorbar(fraction=0.046, pad=0.04)\n",
    "    tick_marks = np.arange(len(classes))\n",
    "    plt.xticks(tick_marks, classes, rotation=rotation, fontsize=fontsize)\n",
    "    plt.yticks(tick_marks, classes, fontsize=fontsize)\n",
    "\n",
    "    thresh = cm.max() / 2.\n",
    "    for i, j in itertools.product(range(cm.shape[0]), range(cm.shape[1])):\n",
    "        plt.text(j, i, cm[i, j], fontsize=fontsize,\n",
    "            horizontalalignment=\"center\",\n",
    "            color=\"white\" if cm[i, j] > thresh else \"black\")\n",
    "\n",
    "    plt.tight_layout()\n",
    "    plt.ylabel('True class', fontsize=fontsize)\n",
    "    plt.xlabel('Prediction', fontsize=fontsize)"
   ]
  },
  {
   "cell_type": "code",
   "execution_count": 26,
   "metadata": {},
   "outputs": [],
   "source": [
    "labels = [0,1,2,3,4,5,6,7,8,9]\n",
    "cm = confusion_matrix(y_test, y_pred, labels=labels)"
   ]
  },
  {
   "cell_type": "code",
   "execution_count": 61,
   "metadata": {},
   "outputs": [
    {
     "data": {
      "image/png": "[encoded data removed]",
      "text/plain": [
       "<Figure size 576x576 with 2 Axes>"
      ]
     },
     "metadata": {
      "needs_background": "light"
     },
     "output_type": "display_data"
    }
   ],
   "source": [
    "plot_confusion_matrix(cm=cm, classes=labels)"
   ]
  },
  {
   "cell_type": "code",
   "execution_count": null,
   "metadata": {},
   "outputs": [],
   "source": []
  }
 ],
 "metadata": {
  "kernelspec": {
   "display_name": "Python 3",
   "language": "python",
   "name": "python3"
  },
  "language_info": {
   "codemirror_mode": {
    "name": "ipython",
    "version": 3
   },
   "file_extension": ".py",
   "mimetype": "text/x-python",
   "name": "python",
   "nbconvert_exporter": "python",
   "pygments_lexer": "ipython3",
   "version": "3.7.3"
  }
 },
 "nbformat": 4,
 "nbformat_minor": 4
}
